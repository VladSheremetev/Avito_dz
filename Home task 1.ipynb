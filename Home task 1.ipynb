{
 "cells": [
  {
   "cell_type": "code",
   "execution_count": 1,
   "id": "127fc589",
   "metadata": {},
   "outputs": [],
   "source": [
    "import pandas as pd\n",
    "import matplotlib.pyplot as plt\n",
    "import numpy as np\n",
    "import seaborn as sns\n",
    "import datetime\n",
    "import random\n",
    "from statsmodels.stats.power import tt_ind_solve_power\n",
    "\n",
    "def date_converter(x):\n",
    "    return datetime.datetime.strptime(x,'%Y-%m-%d')"
   ]
  },
  {
   "cell_type": "markdown",
   "id": "60ed053b",
   "metadata": {},
   "source": [
    "Срок выполнения задания: 17 марта 17:00.\n",
    "\n",
    "\n",
    "### Задание\n",
    "Вам предстоит разработать дизайн эксперимента по тестированию монетизационных продуктов.\n",
    "В конечном счёте, в монтизационных продуктах нас всегда интересует увеличение выручки, \n",
    "но к сожалению не всегда мы можем зафиксировать изменение именно этой метрики.\n",
    "\n",
    "#### Кейс\n",
    "Вы аналитик в продуктовой дискавери команде.\n",
    "На текущий момент приближается начало нового квартала и вам необходимо спланировать\n",
    "эксперименты в нём.\n",
    "\n",
    "У вас есть два продукта:\n",
    "- один базовый продукт, который предоставляет минимальный набор услуг на вашем ресурсе;\n",
    "- один продвинутый продукт, который предоставляет расширенный набор услуг.\n",
    "\n",
    "На текущий момент на квартал у вашей команды есть для проверки две гипотезы:\n",
    "- Дополнительное информирование об эффективности услуг будет стимулировать их покупку;\n",
    "- Повышение цены базового продукта должно стимулировать покупку продвинутого продукта\n"
   ]
  },
  {
   "cell_type": "markdown",
   "id": "cdac335a",
   "metadata": {},
   "source": [
    "#### Для планирования эксперимента изучите данные и метрики (2 балла):\n",
    "\n",
    "- Загрузите файл и изучите данные;\n",
    "- Подумайте над тем, какие метрики можно выделить на основе этих данных: выручка, пользователи, транзакции, средний чек и т.д.\n",
    "- Постройте графики плотности распределения для этих метрик и сделайте выводы о характере распределений: тип, наличие выбросов, насколько сильный разброс;\n",
    "- Изучите основные статистики этих метрик: среднее, стандартное отклонение;\n",
    "- Изучите то, насколько эти статистики подвержены сезональности.\n",
    "\n",
    "\n",
    "#### Формализуйте гипотезы (4 балла):\n",
    "\n",
    "- Опишите метрики и статистики, изменение которых вы ожидаете;\n",
    "- Предположите какое относительное изменение этих статистик в процентах вы ожидаете.\n",
    "\n",
    "#### Предскажите минимально детектируемый эффект для своих метрик и спланируйте эксперименты внутри квартала (4 балла):\n",
    "\n",
    "- Принимая в расчёт максимально возможные размеры групп и ограничения по длительности в квартал рассмотрите разные планы проведения тестов и предскажите их чувствительность;\n",
    "- Определите наиболее оптимальный план экспериментов. Обоснуйте, почему вы его считаете оптимальным.\n",
    "\n",
    "\n",
    "#### * Оптимизация плана (2 балла):\n",
    "Предложите варианты ускорения экспериментов — всегда могут образоваться ситуации, когда ваши гипотезы не подтвердились и они требуют изменения или уточнения и необходимости повторных тестов. Цели достигать всегда хорошо в рамках отведённого на них срока. Какие параметры экспериментов вы поменяете? К каким последствиям могут привести такие изменения?"
   ]
  },
  {
   "cell_type": "markdown",
   "id": "dfbe1b2a",
   "metadata": {},
   "source": [
    "#### Описание данныx\n",
    "\n",
    "event_date - дата \n",
    "\n",
    "user_id - идентификатор пользователя\n",
    "\n",
    "product - тип продукта\n",
    "\n",
    "amount - сумма покупок\n",
    "\n",
    "transactions - количество транзакций"
   ]
  },
  {
   "cell_type": "code",
   "execution_count": 2,
   "id": "75e131d5",
   "metadata": {},
   "outputs": [],
   "source": [
    "df = pd.read_csv('user_transactions.csv')\n",
    "df['event_date']=df.event_date.apply(date_converter)"
   ]
  },
  {
   "cell_type": "code",
   "execution_count": 4,
   "id": "7e0e5820",
   "metadata": {},
   "outputs": [
    {
     "name": "stdout",
     "output_type": "stream",
     "text": [
      "<class 'pandas.core.frame.DataFrame'>\n",
      "RangeIndex: 1278186 entries, 0 to 1278185\n",
      "Data columns (total 5 columns):\n",
      " #   Column        Non-Null Count    Dtype         \n",
      "---  ------        --------------    -----         \n",
      " 0   event_date    1278186 non-null  datetime64[ns]\n",
      " 1   user_id       1278186 non-null  int64         \n",
      " 2   product       1278186 non-null  object        \n",
      " 3   amount        1278186 non-null  float64       \n",
      " 4   transactions  1278186 non-null  int64         \n",
      "dtypes: datetime64[ns](1), float64(1), int64(2), object(1)\n",
      "memory usage: 48.8+ MB\n"
     ]
    }
   ],
   "source": [
    "df.info()"
   ]
  },
  {
   "cell_type": "markdown",
   "id": "af3590fe",
   "metadata": {},
   "source": [
    "#### Пропусков в данных нет"
   ]
  },
  {
   "cell_type": "code",
   "execution_count": 9,
   "id": "7d50b0b6",
   "metadata": {
    "scrolled": false
   },
   "outputs": [
    {
     "data": {
      "text/html": [
       "<div>\n",
       "<style scoped>\n",
       "    .dataframe tbody tr th:only-of-type {\n",
       "        vertical-align: middle;\n",
       "    }\n",
       "\n",
       "    .dataframe tbody tr th {\n",
       "        vertical-align: top;\n",
       "    }\n",
       "\n",
       "    .dataframe thead th {\n",
       "        text-align: right;\n",
       "    }\n",
       "</style>\n",
       "<table border=\"1\" class=\"dataframe\">\n",
       "  <thead>\n",
       "    <tr style=\"text-align: right;\">\n",
       "      <th></th>\n",
       "      <th>event_date</th>\n",
       "      <th>user_id</th>\n",
       "      <th>product</th>\n",
       "      <th>amount</th>\n",
       "      <th>transactions</th>\n",
       "    </tr>\n",
       "  </thead>\n",
       "  <tbody>\n",
       "    <tr>\n",
       "      <th>0</th>\n",
       "      <td>2020-09-29</td>\n",
       "      <td>40746820883461494</td>\n",
       "      <td>basic</td>\n",
       "      <td>95.0</td>\n",
       "      <td>1</td>\n",
       "    </tr>\n",
       "    <tr>\n",
       "      <th>1</th>\n",
       "      <td>2020-09-29</td>\n",
       "      <td>41102328408008828</td>\n",
       "      <td>advanced</td>\n",
       "      <td>279.0</td>\n",
       "      <td>1</td>\n",
       "    </tr>\n",
       "    <tr>\n",
       "      <th>2</th>\n",
       "      <td>2020-09-29</td>\n",
       "      <td>63464894315144075</td>\n",
       "      <td>basic</td>\n",
       "      <td>64.0</td>\n",
       "      <td>1</td>\n",
       "    </tr>\n",
       "    <tr>\n",
       "      <th>3</th>\n",
       "      <td>2020-09-29</td>\n",
       "      <td>111526991873455341</td>\n",
       "      <td>basic</td>\n",
       "      <td>399.0</td>\n",
       "      <td>1</td>\n",
       "    </tr>\n",
       "    <tr>\n",
       "      <th>4</th>\n",
       "      <td>2020-09-29</td>\n",
       "      <td>169522572963414231</td>\n",
       "      <td>basic</td>\n",
       "      <td>199.0</td>\n",
       "      <td>1</td>\n",
       "    </tr>\n",
       "    <tr>\n",
       "      <th>...</th>\n",
       "      <td>...</td>\n",
       "      <td>...</td>\n",
       "      <td>...</td>\n",
       "      <td>...</td>\n",
       "      <td>...</td>\n",
       "    </tr>\n",
       "    <tr>\n",
       "      <th>1278181</th>\n",
       "      <td>2020-12-29</td>\n",
       "      <td>9175681616034416929</td>\n",
       "      <td>advanced</td>\n",
       "      <td>679.0</td>\n",
       "      <td>1</td>\n",
       "    </tr>\n",
       "    <tr>\n",
       "      <th>1278182</th>\n",
       "      <td>2020-12-29</td>\n",
       "      <td>9190225485662720178</td>\n",
       "      <td>advanced</td>\n",
       "      <td>439.0</td>\n",
       "      <td>1</td>\n",
       "    </tr>\n",
       "    <tr>\n",
       "      <th>1278183</th>\n",
       "      <td>2020-12-29</td>\n",
       "      <td>9192452502210580022</td>\n",
       "      <td>basic</td>\n",
       "      <td>149.0</td>\n",
       "      <td>1</td>\n",
       "    </tr>\n",
       "    <tr>\n",
       "      <th>1278184</th>\n",
       "      <td>2020-12-29</td>\n",
       "      <td>9202424686732081420</td>\n",
       "      <td>basic</td>\n",
       "      <td>947.0</td>\n",
       "      <td>3</td>\n",
       "    </tr>\n",
       "    <tr>\n",
       "      <th>1278185</th>\n",
       "      <td>2020-12-29</td>\n",
       "      <td>9219633945080038962</td>\n",
       "      <td>basic</td>\n",
       "      <td>79.0</td>\n",
       "      <td>1</td>\n",
       "    </tr>\n",
       "  </tbody>\n",
       "</table>\n",
       "<p>1278186 rows × 5 columns</p>\n",
       "</div>"
      ],
      "text/plain": [
       "        event_date              user_id   product  amount  transactions\n",
       "0       2020-09-29    40746820883461494     basic    95.0             1\n",
       "1       2020-09-29    41102328408008828  advanced   279.0             1\n",
       "2       2020-09-29    63464894315144075     basic    64.0             1\n",
       "3       2020-09-29   111526991873455341     basic   399.0             1\n",
       "4       2020-09-29   169522572963414231     basic   199.0             1\n",
       "...            ...                  ...       ...     ...           ...\n",
       "1278181 2020-12-29  9175681616034416929  advanced   679.0             1\n",
       "1278182 2020-12-29  9190225485662720178  advanced   439.0             1\n",
       "1278183 2020-12-29  9192452502210580022     basic   149.0             1\n",
       "1278184 2020-12-29  9202424686732081420     basic   947.0             3\n",
       "1278185 2020-12-29  9219633945080038962     basic    79.0             1\n",
       "\n",
       "[1278186 rows x 5 columns]"
      ]
     },
     "execution_count": 9,
     "metadata": {},
     "output_type": "execute_result"
    }
   ],
   "source": [
    "df"
   ]
  },
  {
   "cell_type": "code",
   "execution_count": 10,
   "id": "4205f129",
   "metadata": {},
   "outputs": [
    {
     "data": {
      "text/html": [
       "<div>\n",
       "<style scoped>\n",
       "    .dataframe tbody tr th:only-of-type {\n",
       "        vertical-align: middle;\n",
       "    }\n",
       "\n",
       "    .dataframe tbody tr th {\n",
       "        vertical-align: top;\n",
       "    }\n",
       "\n",
       "    .dataframe thead tr th {\n",
       "        text-align: left;\n",
       "    }\n",
       "\n",
       "    .dataframe thead tr:last-of-type th {\n",
       "        text-align: right;\n",
       "    }\n",
       "</style>\n",
       "<table border=\"1\" class=\"dataframe\">\n",
       "  <thead>\n",
       "    <tr>\n",
       "      <th></th>\n",
       "      <th colspan=\"8\" halign=\"left\">amount</th>\n",
       "      <th colspan=\"8\" halign=\"left\">transactions</th>\n",
       "    </tr>\n",
       "    <tr>\n",
       "      <th></th>\n",
       "      <th>count</th>\n",
       "      <th>mean</th>\n",
       "      <th>std</th>\n",
       "      <th>min</th>\n",
       "      <th>25%</th>\n",
       "      <th>50%</th>\n",
       "      <th>75%</th>\n",
       "      <th>max</th>\n",
       "      <th>count</th>\n",
       "      <th>mean</th>\n",
       "      <th>std</th>\n",
       "      <th>min</th>\n",
       "      <th>25%</th>\n",
       "      <th>50%</th>\n",
       "      <th>75%</th>\n",
       "      <th>max</th>\n",
       "    </tr>\n",
       "    <tr>\n",
       "      <th>product</th>\n",
       "      <th></th>\n",
       "      <th></th>\n",
       "      <th></th>\n",
       "      <th></th>\n",
       "      <th></th>\n",
       "      <th></th>\n",
       "      <th></th>\n",
       "      <th></th>\n",
       "      <th></th>\n",
       "      <th></th>\n",
       "      <th></th>\n",
       "      <th></th>\n",
       "      <th></th>\n",
       "      <th></th>\n",
       "      <th></th>\n",
       "      <th></th>\n",
       "    </tr>\n",
       "  </thead>\n",
       "  <tbody>\n",
       "    <tr>\n",
       "      <th>advanced</th>\n",
       "      <td>287758.0</td>\n",
       "      <td>499.179714</td>\n",
       "      <td>583.444202</td>\n",
       "      <td>20.0</td>\n",
       "      <td>202.0</td>\n",
       "      <td>369.0</td>\n",
       "      <td>599.0</td>\n",
       "      <td>40653.0</td>\n",
       "      <td>287758.0</td>\n",
       "      <td>1.278383</td>\n",
       "      <td>1.453016</td>\n",
       "      <td>1.0</td>\n",
       "      <td>1.0</td>\n",
       "      <td>1.0</td>\n",
       "      <td>1.0</td>\n",
       "      <td>227.0</td>\n",
       "    </tr>\n",
       "    <tr>\n",
       "      <th>basic</th>\n",
       "      <td>990428.0</td>\n",
       "      <td>164.003625</td>\n",
       "      <td>233.032281</td>\n",
       "      <td>8.0</td>\n",
       "      <td>80.0</td>\n",
       "      <td>120.0</td>\n",
       "      <td>199.0</td>\n",
       "      <td>108186.0</td>\n",
       "      <td>990428.0</td>\n",
       "      <td>1.296846</td>\n",
       "      <td>1.527605</td>\n",
       "      <td>1.0</td>\n",
       "      <td>1.0</td>\n",
       "      <td>1.0</td>\n",
       "      <td>1.0</td>\n",
       "      <td>768.0</td>\n",
       "    </tr>\n",
       "  </tbody>\n",
       "</table>\n",
       "</div>"
      ],
      "text/plain": [
       "            amount                                                     \\\n",
       "             count        mean         std   min    25%    50%    75%   \n",
       "product                                                                 \n",
       "advanced  287758.0  499.179714  583.444202  20.0  202.0  369.0  599.0   \n",
       "basic     990428.0  164.003625  233.032281   8.0   80.0  120.0  199.0   \n",
       "\n",
       "                   transactions                                                 \n",
       "               max        count      mean       std  min  25%  50%  75%    max  \n",
       "product                                                                         \n",
       "advanced   40653.0     287758.0  1.278383  1.453016  1.0  1.0  1.0  1.0  227.0  \n",
       "basic     108186.0     990428.0  1.296846  1.527605  1.0  1.0  1.0  1.0  768.0  "
      ]
     },
     "execution_count": 10,
     "metadata": {},
     "output_type": "execute_result"
    }
   ],
   "source": [
    "df[['product', 'amount', 'transactions']].groupby(by='product').describe()"
   ]
  },
  {
   "cell_type": "markdown",
   "id": "3e36c92c",
   "metadata": {},
   "source": [
    "#### Видим, что есть выбросы и из-за этого большой разброс в данных (дисперсия)"
   ]
  },
  {
   "cell_type": "code",
   "execution_count": 15,
   "id": "2a183949",
   "metadata": {},
   "outputs": [
    {
     "data": {
      "text/plain": [
       "advanced         AxesSubplot(0.1,0.15;0.363636x0.75)\n",
       "basic       AxesSubplot(0.536364,0.15;0.363636x0.75)\n",
       "dtype: object"
      ]
     },
     "execution_count": 15,
     "metadata": {},
     "output_type": "execute_result"
    },
    {
     "data": {
      "image/png": "[encoded data removed]",
      "text/plain": [
       "<Figure size 432x288 with 2 Axes>"
      ]
     },
     "metadata": {
      "needs_background": "light"
     },
     "output_type": "display_data"
    }
   ],
   "source": [
    "df[['product', 'amount']].groupby(by='product').boxplot()"
   ]
  },
  {
   "cell_type": "code",
   "execution_count": 20,
   "id": "bed73ada",
   "metadata": {},
   "outputs": [
    {
     "data": {
      "text/plain": [
       "advanced         AxesSubplot(0.1,0.15;0.363636x0.75)\n",
       "basic       AxesSubplot(0.536364,0.15;0.363636x0.75)\n",
       "dtype: object"
      ]
     },
     "execution_count": 20,
     "metadata": {},
     "output_type": "execute_result"
    },
    {
     "data": {
      "image/png": "[encoded data removed]",
      "text/plain": [
       "<Figure size 432x288 with 2 Axes>"
      ]
     },
     "metadata": {
      "needs_background": "light"
     },
     "output_type": "display_data"
    }
   ],
   "source": [
    "df[['product', 'amount']][df[['product', 'amount']]['amount'] < 2000].groupby(by='product').boxplot()"
   ]
  },
  {
   "cell_type": "code",
   "execution_count": 258,
   "id": "14a98631",
   "metadata": {},
   "outputs": [
    {
     "data": {
      "text/html": [
       "<div>\n",
       "<style scoped>\n",
       "    .dataframe tbody tr th:only-of-type {\n",
       "        vertical-align: middle;\n",
       "    }\n",
       "\n",
       "    .dataframe tbody tr th {\n",
       "        vertical-align: top;\n",
       "    }\n",
       "\n",
       "    .dataframe thead tr th {\n",
       "        text-align: left;\n",
       "    }\n",
       "\n",
       "    .dataframe thead tr:last-of-type th {\n",
       "        text-align: right;\n",
       "    }\n",
       "</style>\n",
       "<table border=\"1\" class=\"dataframe\">\n",
       "  <thead>\n",
       "    <tr>\n",
       "      <th></th>\n",
       "      <th colspan=\"8\" halign=\"left\">amount</th>\n",
       "      <th colspan=\"8\" halign=\"left\">transactions</th>\n",
       "    </tr>\n",
       "    <tr>\n",
       "      <th></th>\n",
       "      <th>count</th>\n",
       "      <th>mean</th>\n",
       "      <th>std</th>\n",
       "      <th>min</th>\n",
       "      <th>25%</th>\n",
       "      <th>50%</th>\n",
       "      <th>75%</th>\n",
       "      <th>max</th>\n",
       "      <th>count</th>\n",
       "      <th>mean</th>\n",
       "      <th>std</th>\n",
       "      <th>min</th>\n",
       "      <th>25%</th>\n",
       "      <th>50%</th>\n",
       "      <th>75%</th>\n",
       "      <th>max</th>\n",
       "    </tr>\n",
       "    <tr>\n",
       "      <th>product</th>\n",
       "      <th></th>\n",
       "      <th></th>\n",
       "      <th></th>\n",
       "      <th></th>\n",
       "      <th></th>\n",
       "      <th></th>\n",
       "      <th></th>\n",
       "      <th></th>\n",
       "      <th></th>\n",
       "      <th></th>\n",
       "      <th></th>\n",
       "      <th></th>\n",
       "      <th></th>\n",
       "      <th></th>\n",
       "      <th></th>\n",
       "      <th></th>\n",
       "    </tr>\n",
       "  </thead>\n",
       "  <tbody>\n",
       "    <tr>\n",
       "      <th>advanced</th>\n",
       "      <td>272780.0</td>\n",
       "      <td>403.531978</td>\n",
       "      <td>262.474337</td>\n",
       "      <td>20.0</td>\n",
       "      <td>200.0</td>\n",
       "      <td>349.0</td>\n",
       "      <td>559.0</td>\n",
       "      <td>1299.0</td>\n",
       "      <td>272780.0</td>\n",
       "      <td>1.136777</td>\n",
       "      <td>0.522326</td>\n",
       "      <td>1.0</td>\n",
       "      <td>1.0</td>\n",
       "      <td>1.0</td>\n",
       "      <td>1.0</td>\n",
       "      <td>16.0</td>\n",
       "    </tr>\n",
       "    <tr>\n",
       "      <th>basic</th>\n",
       "      <td>986538.0</td>\n",
       "      <td>155.607187</td>\n",
       "      <td>128.394356</td>\n",
       "      <td>8.0</td>\n",
       "      <td>80.0</td>\n",
       "      <td>120.0</td>\n",
       "      <td>199.0</td>\n",
       "      <td>1299.0</td>\n",
       "      <td>986538.0</td>\n",
       "      <td>1.247426</td>\n",
       "      <td>0.851616</td>\n",
       "      <td>1.0</td>\n",
       "      <td>1.0</td>\n",
       "      <td>1.0</td>\n",
       "      <td>1.0</td>\n",
       "      <td>37.0</td>\n",
       "    </tr>\n",
       "  </tbody>\n",
       "</table>\n",
       "</div>"
      ],
      "text/plain": [
       "            amount                                                             \\\n",
       "             count        mean         std   min    25%    50%    75%     max   \n",
       "product                                                                         \n",
       "advanced  272780.0  403.531978  262.474337  20.0  200.0  349.0  559.0  1299.0   \n",
       "basic     986538.0  155.607187  128.394356   8.0   80.0  120.0  199.0  1299.0   \n",
       "\n",
       "         transactions                                                \n",
       "                count      mean       std  min  25%  50%  75%   max  \n",
       "product                                                              \n",
       "advanced     272780.0  1.136777  0.522326  1.0  1.0  1.0  1.0  16.0  \n",
       "basic        986538.0  1.247426  0.851616  1.0  1.0  1.0  1.0  37.0  "
      ]
     },
     "execution_count": 258,
     "metadata": {},
     "output_type": "execute_result"
    }
   ],
   "source": [
    "df[['product', 'amount', 'transactions']][df[['product', 'amount']]['amount'] < 1300].groupby(by='product').describe()"
   ]
  },
  {
   "cell_type": "code",
   "execution_count": 260,
   "id": "6938d8a8",
   "metadata": {},
   "outputs": [
    {
     "data": {
      "text/html": [
       "<div>\n",
       "<style scoped>\n",
       "    .dataframe tbody tr th:only-of-type {\n",
       "        vertical-align: middle;\n",
       "    }\n",
       "\n",
       "    .dataframe tbody tr th {\n",
       "        vertical-align: top;\n",
       "    }\n",
       "\n",
       "    .dataframe thead th {\n",
       "        text-align: right;\n",
       "    }\n",
       "</style>\n",
       "<table border=\"1\" class=\"dataframe\">\n",
       "  <thead>\n",
       "    <tr style=\"text-align: right;\">\n",
       "      <th></th>\n",
       "      <th>amount</th>\n",
       "    </tr>\n",
       "    <tr>\n",
       "      <th>product</th>\n",
       "      <th></th>\n",
       "    </tr>\n",
       "  </thead>\n",
       "  <tbody>\n",
       "    <tr>\n",
       "      <th>advanced</th>\n",
       "      <td>0.051477</td>\n",
       "    </tr>\n",
       "    <tr>\n",
       "      <th>basic</th>\n",
       "      <td>0.003910</td>\n",
       "    </tr>\n",
       "  </tbody>\n",
       "</table>\n",
       "</div>"
      ],
      "text/plain": [
       "            amount\n",
       "product           \n",
       "advanced  0.051477\n",
       "basic     0.003910"
      ]
     },
     "execution_count": 260,
     "metadata": {},
     "output_type": "execute_result"
    }
   ],
   "source": [
    "df[['product', 'amount']][df[['product', 'amount']]['amount'] > 1300].groupby(by='product').count() / df[['product', 'amount']].groupby(by='product').count()"
   ]
  },
  {
   "cell_type": "markdown",
   "id": "807f74b8",
   "metadata": {},
   "source": [
    "#### Вывод: видим, что процент выбросов в случае advanced чуть больше 5%, а в случае basic около 0.3%"
   ]
  },
  {
   "cell_type": "markdown",
   "id": "2c09c731",
   "metadata": {},
   "source": [
    "# В качестве метрик возьмём:\n",
    "- средний чек, \n",
    "- количество транзакций, \n",
    "- количество уникальных пользователей в день, \n",
    "- 90ый перцентиль по чекам и конверсиям."
   ]
  },
  {
   "cell_type": "markdown",
   "id": "88fd2c0a",
   "metadata": {},
   "source": [
    "## Посмотрим на тенденцию среднего чека и покажем, что можно обойтись без использования 90го перцентиля, потому что средний чек и конверсия из-за выбросов не сильно искажает картину."
   ]
  },
  {
   "cell_type": "code",
   "execution_count": 261,
   "id": "5dbe7cb5",
   "metadata": {},
   "outputs": [
    {
     "data": {
      "image/png": "[encoded data removed]",
      "text/plain": [
       "<Figure size 720x360 with 1 Axes>"
      ]
     },
     "metadata": {
      "needs_background": "light"
     },
     "output_type": "display_data"
    },
    {
     "data": {
      "image/png": "[encoded data removed]",
      "text/plain": [
       "<Figure size 720x360 with 1 Axes>"
      ]
     },
     "metadata": {
      "needs_background": "light"
     },
     "output_type": "display_data"
    }
   ],
   "source": [
    "mean_data = df[['event_date', 'product', 'amount']].groupby(by=['event_date', 'product']).mean().reset_index()\n",
    "plt.figure(figsize=(10, 5))\n",
    "plt.bar(mean_data[(mean_data['product'] == 'advanced')]['event_date'], mean_data[(mean_data['product'] == 'advanced')]['amount'], label='advanced')\n",
    "plt.bar(mean_data[(mean_data['product'] == 'basic')]['event_date'], mean_data[(mean_data['product'] == 'basic')]['amount'], label='basic')\n",
    "plt.title('Avg amount')\n",
    "plt.legend()\n",
    "plt.show()\n",
    "mean_data = df[['event_date', 'product', 'amount']].groupby(by=['event_date', 'product']).quantile(0.93).reset_index()\n",
    "plt.figure(figsize=(10, 5))\n",
    "plt.bar(mean_data[(mean_data['product'] == 'advanced')]['event_date'], mean_data[(mean_data['product'] == 'advanced')]['amount'], label='advanced')\n",
    "plt.bar(mean_data[(mean_data['product'] == 'basic')]['event_date'], mean_data[(mean_data['product'] == 'basic')]['amount'], label='basic')\n",
    "plt.title('Avg amount quantile 0.93')\n",
    "plt.legend()\n",
    "plt.show()"
   ]
  },
  {
   "cell_type": "markdown",
   "id": "feb8260b",
   "metadata": {},
   "source": [
    "## Как мы видим картина достаточно похожа, что при использовании среднего чека, что при использовании quantile(0.93)"
   ]
  },
  {
   "cell_type": "code",
   "execution_count": 89,
   "id": "d4152ced",
   "metadata": {},
   "outputs": [
    {
     "data": {
      "image/png": "[encoded data removed]",
      "text/plain": [
       "<Figure size 720x360 with 1 Axes>"
      ]
     },
     "metadata": {
      "needs_background": "light"
     },
     "output_type": "display_data"
    }
   ],
   "source": [
    "mean_data = df[['event_date', 'product', 'amount']].groupby(by=['event_date', 'product']).mean().reset_index()\n",
    "plt.figure(figsize=(10, 5))\n",
    "plt.bar(mean_data[(mean_data['product'] == 'advanced') & (mean_data['event_date'] <= '2020-10-14')]['event_date'], mean_data[(mean_data['product'] == 'advanced') & (mean_data['event_date'] <= '2020-10-14')]['amount'], label='advanced')\n",
    "plt.bar(mean_data[(mean_data['product'] == 'basic') & (mean_data['event_date'] <= '2020-10-14')]['event_date'], mean_data[(mean_data['product'] == 'basic') & (mean_data['event_date'] <= '2020-10-14')]['amount'], label='basic')\n",
    "plt.title('Avg amount')\n",
    "plt.legend()\n",
    "plt.show()"
   ]
  },
  {
   "cell_type": "markdown",
   "id": "aa0e05b6",
   "metadata": {},
   "source": [
    "#### Пользователи имеют больший средний чек в первой половине недели, а во второй средний чек уменьшается"
   ]
  },
  {
   "cell_type": "code",
   "execution_count": 264,
   "id": "ac905ddd",
   "metadata": {},
   "outputs": [
    {
     "data": {
      "image/png": "[encoded data removed]",
      "text/plain": [
       "<Figure size 720x360 with 1 Axes>"
      ]
     },
     "metadata": {
      "needs_background": "light"
     },
     "output_type": "display_data"
    }
   ],
   "source": [
    "mean_data = df[['event_date', 'product', 'transactions']].groupby(by=['event_date', 'product']).mean().reset_index()\n",
    "plt.figure(figsize=(10, 5))\n",
    "plt.bar(mean_data[(mean_data['product'] == 'basic')]['event_date'], mean_data[(mean_data['product'] == 'basic') ]['transactions'], label='basic')\n",
    "plt.bar(mean_data[(mean_data['product'] == 'advanced')]['event_date'], mean_data[(mean_data['product'] == 'advanced') ]['transactions'], label='advanced')\n",
    "plt.title('Avg transactions')\n",
    "plt.legend()\n",
    "plt.show()"
   ]
  },
  {
   "cell_type": "code",
   "execution_count": 265,
   "id": "a9db662b",
   "metadata": {},
   "outputs": [
    {
     "data": {
      "image/png": "[encoded data removed]",
      "text/plain": [
       "<Figure size 720x360 with 1 Axes>"
      ]
     },
     "metadata": {
      "needs_background": "light"
     },
     "output_type": "display_data"
    }
   ],
   "source": [
    "mean_data = df[['event_date', 'product', 'transactions']].groupby(by=['event_date', 'product']).sum().reset_index()\n",
    "plt.figure(figsize=(10, 5))\n",
    "plt.bar(mean_data[(mean_data['product'] == 'basic')]['event_date'], mean_data[(mean_data['product'] == 'basic') ]['transactions'], label='basic')\n",
    "plt.bar(mean_data[(mean_data['product'] == 'advanced')]['event_date'], mean_data[(mean_data['product'] == 'advanced') ]['transactions'], label='advanced')\n",
    "plt.title('Avg transactions')\n",
    "plt.legend()\n",
    "plt.show()"
   ]
  },
  {
   "cell_type": "markdown",
   "id": "26d24e1b",
   "metadata": {},
   "source": [
    "## Видим, что среднее количество транзакций примерно одинаково для двух продуктов, а вот сумма для базового значительно больше, чем для продвинутого, т.к. пользователи базового каждый день покупают чаще, чем продвинутого продукта. "
   ]
  },
  {
   "cell_type": "code",
   "execution_count": 99,
   "id": "72fb4cc0",
   "metadata": {},
   "outputs": [
    {
     "data": {
      "image/png": "[encoded data removed]",
      "text/plain": [
       "<Figure size 720x360 with 1 Axes>"
      ]
     },
     "metadata": {
      "needs_background": "light"
     },
     "output_type": "display_data"
    }
   ],
   "source": [
    "mean_data = df[['event_date', 'product', 'transactions']].groupby(by=['event_date', 'product']).sum().reset_index()\n",
    "plt.figure(figsize=(10, 5))\n",
    "plt.bar(mean_data[(mean_data['product'] == 'basic') & (mean_data['event_date'] <= '2020-10-14')]['event_date'], mean_data[(mean_data['product'] == 'basic') & (mean_data['event_date'] <= '2020-10-14')]['transactions'], label='basic')\n",
    "plt.bar(mean_data[(mean_data['product'] == 'advanced') & (mean_data['event_date'] <= '2020-10-14')]['event_date'], mean_data[(mean_data['product'] == 'advanced') & (mean_data['event_date'] <= '2020-10-14')]['transactions'], label='advanced')\n",
    "plt.title('Avg transactions')\n",
    "plt.legend()\n",
    "plt.show()"
   ]
  },
  {
   "cell_type": "markdown",
   "id": "561a9242",
   "metadata": {},
   "source": [
    "### Видим ту же тенденцию (сезонность), что и в случае со средним чеком, т.е. транзакций больше в будни дни, а в выходные резко падает."
   ]
  },
  {
   "cell_type": "markdown",
   "id": "90b119dd",
   "metadata": {},
   "source": [
    "### Построим распределение метрик"
   ]
  },
  {
   "cell_type": "markdown",
   "id": "133d98ab",
   "metadata": {},
   "source": [
    "# средний чек"
   ]
  },
  {
   "cell_type": "code",
   "execution_count": 284,
   "id": "5fd37bf2",
   "metadata": {},
   "outputs": [
    {
     "data": {
      "image/png": "[encoded data removed]",
      "text/plain": [
       "<Figure size 432x288 with 1 Axes>"
      ]
     },
     "metadata": {
      "needs_background": "light"
     },
     "output_type": "display_data"
    },
    {
     "name": "stdout",
     "output_type": "stream",
     "text": [
      "Advanced avg amount mean = 495.85123919003286, std = 33.409616136817284\n"
     ]
    }
   ],
   "source": [
    "mean_df = df[['event_date', 'product', 'amount']].groupby(by=['event_date', 'product']).mean().reset_index('product')\n",
    "advanced_mean = mean_df[mean_df['product'] == 'advanced']['amount']\n",
    "advanced_mean.plot.kde()\n",
    "plt.title('Средний чек advanced')\n",
    "plt.show()\n",
    "print(f'Advanced avg amount mean = {advanced_mean.mean()}, std = {advanced_mean.std()}')"
   ]
  },
  {
   "cell_type": "code",
   "execution_count": 286,
   "id": "d98fcf3b",
   "metadata": {},
   "outputs": [
    {
     "data": {
      "image/png": "[encoded data removed]",
      "text/plain": [
       "<Figure size 432x288 with 1 Axes>"
      ]
     },
     "metadata": {
      "needs_background": "light"
     },
     "output_type": "display_data"
    },
    {
     "name": "stdout",
     "output_type": "stream",
     "text": [
      "Advanced avg amount mean = 163.27360494233378, std = 9.375112780788374\n"
     ]
    }
   ],
   "source": [
    "mean_df = df[['event_date', 'product', 'amount']].groupby(by=['event_date', 'product']).mean().reset_index('product')\n",
    "basic_mean = mean_df[mean_df['product'] == 'basic']['amount']\n",
    "basic_mean.plot.kde()\n",
    "plt.title('Средний чек basic')\n",
    "plt.show()\n",
    "print(f'Advanced avg amount mean = {basic_mean.mean()}, std = {basic_mean.std()}')"
   ]
  },
  {
   "cell_type": "code",
   "execution_count": 294,
   "id": "b000e99a",
   "metadata": {},
   "outputs": [
    {
     "data": {
      "image/png": "[encoded data removed]",
      "text/plain": [
       "<Figure size 432x288 with 1 Axes>"
      ]
     },
     "metadata": {
      "needs_background": "light"
     },
     "output_type": "display_data"
    },
    {
     "name": "stdout",
     "output_type": "stream",
     "text": [
      "Advanced sum transactions mean = 3998.532608695652, std = 563.7573995242942\n"
     ]
    }
   ],
   "source": [
    "mean_df = df[['event_date', 'product', 'transactions']].groupby(by=['event_date', 'product']).sum().reset_index('product')\n",
    "advanced_mean = mean_df[mean_df['product'] == 'advanced']['transactions']\n",
    "advanced_mean.plot.kde()\n",
    "plt.title('Количество транзакций advanced')\n",
    "plt.show()\n",
    "print(f'Advanced sum transactions mean = {advanced_mean.mean()}, std = {advanced_mean.std()}')"
   ]
  },
  {
   "cell_type": "code",
   "execution_count": 295,
   "id": "dca5bb81",
   "metadata": {},
   "outputs": [
    {
     "data": {
      "image/png": "[encoded data removed]",
      "text/plain": [
       "<Figure size 432x288 with 1 Axes>"
      ]
     },
     "metadata": {
      "needs_background": "light"
     },
     "output_type": "display_data"
    },
    {
     "name": "stdout",
     "output_type": "stream",
     "text": [
      "Advanced sum transactions mean = 13961.228260869566, std = 1818.7450697233785\n"
     ]
    }
   ],
   "source": [
    "mean_df = df[['event_date', 'product', 'transactions']].groupby(by=['event_date', 'product']).sum().reset_index('product')\n",
    "basic_mean = mean_df[mean_df['product'] == 'basic']['transactions']\n",
    "basic_mean.plot.kde()\n",
    "plt.title('Количество транзакций basic')\n",
    "plt.show()\n",
    "print(f'Advanced sum transactions mean = {basic_mean.mean()}, std = {basic_mean.std()}')"
   ]
  },
  {
   "cell_type": "code",
   "execution_count": 288,
   "id": "2e16d00a",
   "metadata": {},
   "outputs": [
    {
     "data": {
      "image/png": "[encoded data removed]",
      "text/plain": [
       "<Figure size 720x360 with 1 Axes>"
      ]
     },
     "metadata": {
      "needs_background": "light"
     },
     "output_type": "display_data"
    }
   ],
   "source": [
    "df2 = df[['event_date', 'user_id', 'product']].groupby(by=['event_date', 'product']).agg({'user_id': pd.Series.nunique}).reset_index()\n",
    "plt.figure(figsize=(10, 5))\n",
    "plt.plot(df2[df2['product'] == 'basic'][['event_date', 'user_id']]['event_date'], df2[df2['product'] == 'basic'][['event_date', 'user_id']]['user_id'], label='basic')\n",
    "plt.plot(df2[df2['product'] == 'advanced'][['event_date', 'user_id']]['event_date'], df2[df2['product'] == 'advanced'][['event_date', 'user_id']]['user_id'], label='advanced')\n",
    "plt.title('Количество пользователей')\n",
    "plt.legend()\n",
    "plt.show()"
   ]
  },
  {
   "cell_type": "markdown",
   "id": "a8103082",
   "metadata": {},
   "source": []
  },
  {
   "cell_type": "code",
   "execution_count": 296,
   "id": "70cd90d2",
   "metadata": {},
   "outputs": [
    {
     "data": {
      "image/png": "[encoded data removed]",
      "text/plain": [
       "<Figure size 432x288 with 1 Axes>"
      ]
     },
     "metadata": {
      "needs_background": "light"
     },
     "output_type": "display_data"
    }
   ],
   "source": [
    "df_avg_amount = df[['product', 'amount', 'transactions']][df[['product', 'amount']]['amount'] < 5000]\n",
    "plt.hist(df_avg_amount[df_avg_amount['product'] =='basic']['amount'], bins=100, label='amount basic')\n",
    "plt.hist(df_avg_amount[df_avg_amount['product'] =='advanced']['amount'], bins=100, label='amount advanced')\n",
    "plt.title('Чеки')\n",
    "plt.legend()\n",
    "plt.show()"
   ]
  },
  {
   "cell_type": "markdown",
   "id": "6c7cd937",
   "metadata": {},
   "source": [
    "### Видим, что пользователей с basic в разы больше, чем с advanced, но их чеки меньше в среднем"
   ]
  },
  {
   "cell_type": "markdown",
   "id": "1603b85e",
   "metadata": {},
   "source": [
    "#### Ожидается увеличение метрик (статистик): средний чек у advanced, количество transactions у advanced,  количество пользователей продуктов у advanced, средний чек у basic. Ожидается падение: количества пользователей у basic (они перетекут в advanced), количество transactions. Нужно ещё внимательно следить за общим количеством пользователей, а то они могут начать утекать с нашего бизнеса. "
   ]
  },
  {
   "cell_type": "markdown",
   "id": "d261b142",
   "metadata": {},
   "source": [
    "### Посмотрим, как сами по себе меняются в квартале метрики и сделаем выводы, как может наш эксперимент повлияеть на них"
   ]
  },
  {
   "cell_type": "code",
   "execution_count": 299,
   "id": "7328c514",
   "metadata": {},
   "outputs": [
    {
     "data": {
      "text/plain": [
       "product\n",
       "advanced    1.086322\n",
       "basic       1.011763\n",
       "Name: amount, dtype: float64"
      ]
     },
     "execution_count": 299,
     "metadata": {},
     "output_type": "execute_result"
    }
   ],
   "source": [
    "df[['event_date', 'product', 'amount']][(df[['event_date', 'product', 'amount']]['event_date'] >= '2020-12-01') & (df[['event_date', 'product', 'amount']]['event_date'] < '2021-01-01')].groupby(by='product').mean()['amount'] / df[['event_date', 'product', 'amount']][(df[['event_date', 'product', 'amount']]['event_date'] >= '2020-10-01') & (df[['event_date', 'product', 'amount']]['event_date'] < '2020-11-01')].groupby(by='product').mean()['amount']"
   ]
  },
  {
   "cell_type": "markdown",
   "id": "05c23b0a",
   "metadata": {},
   "source": [
    "#### Средний чек вырастает в среднем каждый месяц на 3.5% у advanced и на 0.5% у basic. В случае нашего эксперимента, предположим изменения среднего чека у advanced на 10%, а у basic на 3%. "
   ]
  },
  {
   "cell_type": "code",
   "execution_count": 304,
   "id": "fccdd6ef",
   "metadata": {},
   "outputs": [
    {
     "data": {
      "text/plain": [
       "product\n",
       "advanced    1.069126\n",
       "basic       1.084946\n",
       "Name: transactions, dtype: float64"
      ]
     },
     "execution_count": 304,
     "metadata": {},
     "output_type": "execute_result"
    }
   ],
   "source": [
    "df[['event_date', 'product', 'transactions']][(df[['event_date', 'product', 'transactions']]['event_date'] >= '2020-12-01') & (df[['event_date', 'product', 'transactions']]['event_date'] < '2021-01-01')].groupby(by='product').sum()['transactions'] / df[['event_date', 'product', 'transactions']][(df[['event_date', 'product', 'transactions']]['event_date'] >= '2020-11-01') & (df[['event_date', 'product', 'transactions']]['event_date'] < '2020-12-01')].groupby(by='product').sum()['transactions']"
   ]
  },
  {
   "cell_type": "markdown",
   "id": "fcdd5d14",
   "metadata": {},
   "source": [
    "#### Количество транзакций в день растатёт в среднем каждый месяц  у advanced на 7.25%, у basic на 7%. Значит после нашего эксперимента количество транзакций у advanced должно вырасти примерно на 15%, а у basic не увеличиться, даже начать падать."
   ]
  },
  {
   "cell_type": "code",
   "execution_count": 307,
   "id": "b65bc0a1",
   "metadata": {},
   "outputs": [
    {
     "data": {
      "text/html": [
       "<div>\n",
       "<style scoped>\n",
       "    .dataframe tbody tr th:only-of-type {\n",
       "        vertical-align: middle;\n",
       "    }\n",
       "\n",
       "    .dataframe tbody tr th {\n",
       "        vertical-align: top;\n",
       "    }\n",
       "\n",
       "    .dataframe thead th {\n",
       "        text-align: right;\n",
       "    }\n",
       "</style>\n",
       "<table border=\"1\" class=\"dataframe\">\n",
       "  <thead>\n",
       "    <tr style=\"text-align: right;\">\n",
       "      <th></th>\n",
       "      <th>event_date</th>\n",
       "      <th>product</th>\n",
       "      <th>user_id</th>\n",
       "    </tr>\n",
       "  </thead>\n",
       "  <tbody>\n",
       "    <tr>\n",
       "      <th>0</th>\n",
       "      <td>2020-09-29</td>\n",
       "      <td>advanced</td>\n",
       "      <td>2967</td>\n",
       "    </tr>\n",
       "    <tr>\n",
       "      <th>1</th>\n",
       "      <td>2020-09-29</td>\n",
       "      <td>basic</td>\n",
       "      <td>9953</td>\n",
       "    </tr>\n",
       "    <tr>\n",
       "      <th>2</th>\n",
       "      <td>2020-09-30</td>\n",
       "      <td>advanced</td>\n",
       "      <td>3106</td>\n",
       "    </tr>\n",
       "    <tr>\n",
       "      <th>3</th>\n",
       "      <td>2020-09-30</td>\n",
       "      <td>basic</td>\n",
       "      <td>10616</td>\n",
       "    </tr>\n",
       "    <tr>\n",
       "      <th>4</th>\n",
       "      <td>2020-10-01</td>\n",
       "      <td>advanced</td>\n",
       "      <td>2896</td>\n",
       "    </tr>\n",
       "    <tr>\n",
       "      <th>...</th>\n",
       "      <td>...</td>\n",
       "      <td>...</td>\n",
       "      <td>...</td>\n",
       "    </tr>\n",
       "    <tr>\n",
       "      <th>179</th>\n",
       "      <td>2020-12-27</td>\n",
       "      <td>basic</td>\n",
       "      <td>9784</td>\n",
       "    </tr>\n",
       "    <tr>\n",
       "      <th>180</th>\n",
       "      <td>2020-12-28</td>\n",
       "      <td>advanced</td>\n",
       "      <td>4153</td>\n",
       "    </tr>\n",
       "    <tr>\n",
       "      <th>181</th>\n",
       "      <td>2020-12-28</td>\n",
       "      <td>basic</td>\n",
       "      <td>13702</td>\n",
       "    </tr>\n",
       "    <tr>\n",
       "      <th>182</th>\n",
       "      <td>2020-12-29</td>\n",
       "      <td>advanced</td>\n",
       "      <td>4052</td>\n",
       "    </tr>\n",
       "    <tr>\n",
       "      <th>183</th>\n",
       "      <td>2020-12-29</td>\n",
       "      <td>basic</td>\n",
       "      <td>12764</td>\n",
       "    </tr>\n",
       "  </tbody>\n",
       "</table>\n",
       "<p>184 rows × 3 columns</p>\n",
       "</div>"
      ],
      "text/plain": [
       "    event_date   product  user_id\n",
       "0   2020-09-29  advanced     2967\n",
       "1   2020-09-29     basic     9953\n",
       "2   2020-09-30  advanced     3106\n",
       "3   2020-09-30     basic    10616\n",
       "4   2020-10-01  advanced     2896\n",
       "..         ...       ...      ...\n",
       "179 2020-12-27     basic     9784\n",
       "180 2020-12-28  advanced     4153\n",
       "181 2020-12-28     basic    13702\n",
       "182 2020-12-29  advanced     4052\n",
       "183 2020-12-29     basic    12764\n",
       "\n",
       "[184 rows x 3 columns]"
      ]
     },
     "execution_count": 307,
     "metadata": {},
     "output_type": "execute_result"
    }
   ],
   "source": [
    "df2"
   ]
  },
  {
   "cell_type": "code",
   "execution_count": 310,
   "id": "0a54600a",
   "metadata": {},
   "outputs": [
    {
     "name": "stdout",
     "output_type": "stream",
     "text": [
      "advanced = 1.1242795389048992, basic = 1.1205221823070122\n"
     ]
    }
   ],
   "source": [
    "advanced_user = df2[df2['product'] == 'advanced']\n",
    "basic_user = df2[df2['product'] == 'basic']\n",
    "print(f\"advanced = {advanced_user[(advanced_user['event_date'] >= '2020-12-01') & (advanced_user['event_date'] < '2021-01-01')]['user_id'].sum() / advanced_user[(advanced_user['event_date'] >= '2020-10-01') & (advanced_user['event_date'] < '2020-11-01')]['user_id'].sum()}, basic = {basic_user[(basic_user['event_date'] >= '2020-12-01') & (basic_user['event_date'] < '2021-01-01')]['user_id'].sum() / basic_user[(basic_user['event_date'] >= '2020-10-01') & (basic_user['event_date'] < '2020-11-01')]['user_id'].sum()}\")"
   ]
  },
  {
   "cell_type": "markdown",
   "id": "bc74fe78",
   "metadata": {},
   "source": [
    "#### Видим, что количество пользователей растёт в среднем на 6% в месяц для advanced и basic. Наш эксперимент должен увеличить количество пользователей для advanced на 15%, а в basic либо не изменить, либо уменьшить."
   ]
  },
  {
   "cell_type": "markdown",
   "id": "59731170",
   "metadata": {},
   "source": [
    "## MDE"
   ]
  },
  {
   "cell_type": "markdown",
   "id": "dccdde9c",
   "metadata": {},
   "source": [
    "### средний чек"
   ]
  },
  {
   "cell_type": "code",
   "execution_count": 344,
   "id": "79f809f0",
   "metadata": {},
   "outputs": [
    {
     "name": "stdout",
     "output_type": "stream",
     "text": [
      "MDE avg amount basic = 0.005980537485433243\n"
     ]
    }
   ],
   "source": [
    "def choose_date(data, share): \n",
    "    tmp = data.groupby(['user_id']).sum().reset_index()\n",
    "    x = tmp[(tmp.user_id)%int(1/share)==1].reset_index()\n",
    "    return x\n",
    "\n",
    "\n",
    "x1 = choose_date(df[df['product'] == 'basic'], 0.3) #получаем необходимую подвыборку для avg amount basic\n",
    "\n",
    "mean = x1.amount.mean()\n",
    "std = x1.amount.std()\n",
    " \n",
    "alpha = 0.01\n",
    "power = 0.8\n",
    "result_effect = 0.03 # целевой размер относительного отклоенения исходной метрики\n",
    "effect_size = (mean / std) * result_effect\n",
    "print(f'MDE avg amount basic = {effect_size}')"
   ]
  },
  {
   "cell_type": "code",
   "execution_count": 353,
   "id": "096d355f",
   "metadata": {},
   "outputs": [
    {
     "name": "stdout",
     "output_type": "stream",
     "text": [
      "MDE avg amount advanced = 0.018689277989086237\n"
     ]
    }
   ],
   "source": [
    "def choose_date(data, share): \n",
    "    tmp = data.groupby(['user_id']).sum().reset_index()\n",
    "    x = tmp[(tmp.user_id)%int(1/share)==1].reset_index()\n",
    "    return x\n",
    "\n",
    "\n",
    "x1 = choose_date(df[df['product'] == 'advanced'], 0.5) #получаем необходимую подвыборку для avg amount advanced\n",
    "\n",
    "mean = x1.amount.mean()\n",
    "std = x1.amount.std()\n",
    " \n",
    "alpha = 0.01\n",
    "power = 0.8\n",
    "result_effect = 0.1 # целевой размер относительного отклоенения исходной метрики\n",
    "effect_size = (mean / std) * result_effect\n",
    "print(f'MDE avg amount advanced = {effect_size}')"
   ]
  },
  {
   "cell_type": "markdown",
   "id": "291b6b37",
   "metadata": {},
   "source": [
    "### количество транзакций"
   ]
  },
  {
   "cell_type": "code",
   "execution_count": 333,
   "id": "4d886c70",
   "metadata": {},
   "outputs": [
    {
     "name": "stdout",
     "output_type": "stream",
     "text": [
      "MDE sum transactions advanced = 0.03224063033421147\n"
     ]
    }
   ],
   "source": [
    "def choose_date(data, share): \n",
    "    tmp = data.groupby(['user_id']).sum().reset_index()\n",
    "    x = tmp[(tmp.user_id)%int(1/share) == 1]\n",
    "    return x\n",
    "\n",
    "\n",
    "x1 = choose_date(df[df['product'] == 'advanced'], 0.5) #получаем необходимую подвыборку для avg amount advanced\n",
    "\n",
    "mean = x1.transactions.mean()\n",
    "std = x1.transactions.std()\n",
    " \n",
    "alpha = 0.01\n",
    "power = 0.8\n",
    "result_effect = 0.15 # целевой размер относительного отклоенения исходной метрики\n",
    "effect_size = (mean / std) * result_effect\n",
    "print(f'MDE sum transactions advanced = {effect_size}')"
   ]
  },
  {
   "cell_type": "code",
   "execution_count": null,
   "id": "a9a7f6e7",
   "metadata": {},
   "outputs": [],
   "source": []
  }
 ],
 "metadata": {
  "kernelspec": {
   "display_name": "Python 3 (ipykernel)",
   "language": "python",
   "name": "python3"
  },
  "language_info": {
   "codemirror_mode": {
    "name": "ipython",
    "version": 3
   },
   "file_extension": ".py",
   "mimetype": "text/x-python",
   "name": "python",
   "nbconvert_exporter": "python",
   "pygments_lexer": "ipython3",
   "version": "3.8.12"
  }
 },
 "nbformat": 4,
 "nbformat_minor": 5
}
