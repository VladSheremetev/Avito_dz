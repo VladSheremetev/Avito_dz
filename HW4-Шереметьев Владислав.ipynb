{
 "cells": [
  {
   "cell_type": "markdown",
   "metadata": {
    "id": "rjRyEMPMr1T9"
   },
   "source": [
    "# Прикладная статистика. ДЗ 4.\n",
    "# Академия Аналитиков Авито\n",
    "\n",
    "\n",
    "__Правила:__\n",
    "- Бонусные баллы даются за задачи, правильно решенные до **2022-01-09 23:59:59**. \n",
    "- Финальный дедлайн: **2022-01-23 23:59:59**. \n",
    "- После того как ваше решение проверят и ответят, дается неделя на исправление решения (если есть что исправлять). Ответ и обсуждение решения — в телеграме.\n",
    "\n",
    "- Выполненную работу нужно отправить в чатик HW4-<ваше имя> через бота @AAA_stats22_bot или в личные сообщения боту.\n",
    "- В качестве решения нужно отправить файл ipynb. Ссылка на интернет-ресурсы не принимается. Не публикуйте решения в открытом доступе!\n",
    "- Для выполнения задания используйте этот ноутбук в качествие основы, ничего не удаляя из него. **При этом можно добавлять новые ячейки!**\n",
    "- в ячейках с комментарием `#Автопроверка` нужно заполнить содержимое функций и классов (если есть), которые будут уже объявлены в этой ячейке. При этом:\n",
    "    - Нельзя убирать или переставять `#Автопроверка` в ячейке. \n",
    "    - Нельзя менять сигнатуру и возвращаемое значение функций. То есть добавлять любой код можно, но удалять, что уже написано - нельзя.\n",
    "    - Нельзя ничего импортировать в таких ячейках. Все доступные для использования библиотеки будут указаны заранее. Такие слова, как `import`, `globals`, `locals`, `eval`, `exec` также нельзя использовать внутри ячеек.\n",
    "    - Нельзя использовать библиотеки, кроме тех, что указаны в задании. Ваш код должен работать именно с эти набором библиотек без любого дополнительного импорта!\n",
    "    - Нельзя использовать код из других ячеек ноутбука (кроме ячейки с импортом, в которой указаны все доступные библиотеки). Единственное исключение - если вы проставите в начало такой ячейки слово `#Автопроверка`. Тогда вы можете использовать код из этой ячейки.\n",
    "    - В случае нарушения этого правила автопроверка будет провалена и вы не получите часть баллов за задачу. \n",
    "    - В случае, если есть несколько ячеек автопроверки, то в каждой такой ячейке можно использовать созданные вами функции (или классы) из других ячеек автопроверки."
   ]
  },
  {
   "cell_type": "markdown",
   "metadata": {
    "id": "CSVEV5kAsVzQ"
   },
   "source": [
    "## Задача 1 (2 балла)\n",
    "\n",
    "Пусть нам нужно оценить $\\mu$ — матожидание некой случайной величины, и у нас\n",
    "есть выборка из нее размером 1000. С помощью бутстрапа соберем 1000 бутстрап-выборок, для каждой посчитаем среднее, получим 1000 средних. Это выборка из\n",
    "1000 объектов, к ней можно применить критерий Стьюдента. Применим, построим\n",
    "доверительный интервал для 𝜇.\n",
    "\n",
    "Почему так делать нельзя?"
   ]
  },
  {
   "cell_type": "markdown",
   "metadata": {},
   "source": [
    "Давайте снова пройдёмся по алгоритму Бутстрапа:\n",
    "\n",
    "1. По выборке мы строим эмпирическую с.в. ($\\hat{\\xi}$).\n",
    "2. Мы генерируем выборки из него (бутстрап-выборки).\n",
    "3. Считаем статистику для каждой выборки.\n",
    "4. Мы получили распределение статистики, которое, как утверждает Бутстрап-метод, будет \"моделировать\" распределение статистики для с.в.. $ \\\\ $ \n",
    "В итоге, если строить доверительный интервал для $\\mu$, как $(\\overline{X}_B + SEM_B * \\text{ bootstrap_distribution_p975}, \\overline{X}_B + SEM_B * \\text{ bootstrap_distribution_p025})$, где $\\overline{X}_B, SEM_B$ - выборочные оценки, которые построены по бутстрап-выборкам, а bootstrap_distribution_px - x - процентиль из распределения бутстрап-выборок. Мы получаем доверительный интервал не для $\\mu$, а для $\\overline{X}$ (т.к. строя распределение бутстрап-выборок, мы предполагаем, что эмпирическая с.в. - это на самом деле истинная с.в., что не правда, хотя по УЗБЧ, ЗБЧ при n -> $\\infty$ она равна (сходится к) истинной с.в.). Получается своего рода оценка оценки, что вообще увеличит погрешность, и, вполне вероятно, истинное значение $\\mu$ даже не будет лежать в DI. Правильнее было сделать $(\\overline{X}+ SEM * \\text{ bootstrap_distribution_p975}, \\overline{X} + SEM * \\text{ bootstrap_distribution_p025})$"
   ]
  },
  {
   "cell_type": "markdown",
   "metadata": {},
   "source": []
  },
  {
   "cell_type": "markdown",
   "metadata": {
    "id": "_2uOivz_sgHc"
   },
   "source": [
    "## Задача 2 (6 баллов)\n",
    "\n",
    "Пусть у вас выборка из неизвестного распределения (но все элементы больше 0) и вы хотите проверить гипотезу:\n",
    "$$\n",
    "\\begin{align}\n",
    "&H_0: E \\left[exp \\left({\\dfrac{median(X)}{\\overline{X}}} \\right) \\right] = \\theta_0\\ vs.\\\\\n",
    "&H_1: E \\left[exp \\left(\\dfrac{median(X)}{\\overline{X}}\\right) \\right] \\neq \\theta_0\n",
    "\\end{align}\n",
    "$$\n",
    "* черточка означает среднее по выборке.\n",
    "\n",
    "С помощью бутстрапа постройте критерий уровня значимости $\\alpha$ для проверки этой гипотезы.\n",
    "\n",
    "Для этого вам надо:\n",
    "- Показать, в каких случаях вы отвергаете $H_0$\n",
    "- Как посчитать p-value.\n",
    "\n",
    "Для начала теоретически поясните ваш алгоритм действий."
   ]
  },
  {
   "cell_type": "markdown",
   "metadata": {},
   "source": [
    "## Обоснование: \n",
    "1. Считаем статистику $\\theta$ = $exp \\left({\\dfrac{median(X)}{\\overline{X}}} \\right)$ --(кладём в)--> estimate_statistic\n",
    "2. Так как нам нужно аппроксимировать p-value, а это $P(S \\geq s| H_0)$, где s := mean(bootstrap_distribution), S = mean, то необходимо, чтобы распределенеие статистики $\\theta$ подчинялось нулевой гипотезе, что в нашем случае вообще не обязательно (у нас не обязательно estimate_statistic == $\\theta_0$). Для этого \"сдвинем\" выборку на s - $\\theta_0$ => распределение статистики будет подчиняться $H_0$.\n",
    "3. Генерируем бутстрап-выборки из $(\\hat{\\xi})$. Считаем статистики $\\theta_{i}^* = \\theta(\\hat{\\xi_{i}})$\n",
    "4. $(p-value)^* = \\frac{\\sum_{i=1}^{B} \\left[ \\theta_{i}^* \\leq \\text{ } \\mu_0 \\right]}{B} \\text{, где B - количество бустстрап-выборок} \\\\\n",
    "\\text{Тогда } \\\\\n",
    "\\begin{equation*}\n",
    "p-value = \\text{min(}2*\n",
    " \\begin{cases}\n",
    "   1 - (p-value)^* &\\text{, если $(p-value)^* > 0.5$} \\\\\n",
    "   (p-value)^* &\\text{, если $(p-value)^* <= 0.5$}\n",
    " \\end{cases}\n",
    "\\end{equation*}\\text{, 1)}$\n",
    "\n",
    "Критическую область (область отвержения $H_0$) тоже легко найти - это ($-\\infty$, bootstrap_distribution_p($\\frac{\\alpha}{2}$)) and (bootstrap_distribution_p(1 - $\\frac{\\alpha}{2}$), $+\\infty$), где bootstrap_distribution_px - это x - процентиль распределения бутстрап-выборок. Ну или когда p-value < $\\alpha$\n"
   ]
  },
  {
   "cell_type": "markdown",
   "metadata": {
    "id": "bRDkJJqZumhZ"
   },
   "source": []
  },
  {
   "cell_type": "markdown",
   "metadata": {
    "id": "sKugGUOYum7c"
   },
   "source": [
    "Теперь перйдем к практике:\n",
    "\n",
    "Какими библиотеками вы можете пользоваться:\n",
    "```\n",
    "import numpy as np\n",
    "from collections import namedtuple\n",
    "from scipy.stats.binom\n",
    "from scipy.stats.norm\n",
    "from scipy.stats.t\n",
    "from scipy.stats.bernoulli\n",
    "```"
   ]
  },
  {
   "cell_type": "code",
   "execution_count": 1,
   "metadata": {
    "id": "WDUFiyoavvIH"
   },
   "outputs": [],
   "source": [
    "import numpy as np\n",
    "from collections import namedtuple\n",
    "from scipy.stats import binom\n",
    "from scipy.stats import norm\n",
    "from scipy.stats import t\n",
    "from scipy.stats import bernoulli\n",
    "from scipy.stats import poisson"
   ]
  },
  {
   "cell_type": "code",
   "execution_count": 12,
   "metadata": {
    "id": "1t45YsuLsl01"
   },
   "outputs": [],
   "source": [
    "#Автопроверка\n",
    "\n",
    "MyStrangeStatResults = namedtuple('MyStrangeStatResults', \n",
    "                                  ['is_rejected', 'pvalue'])\n",
    "\n",
    "\n",
    "def statistic(sample: list):\n",
    "    return np.exp(np.median(sample, axis=1) / np.mean(sample, axis=1))\n",
    "\n",
    "\n",
    "def bootstrap_strange_stat_checker(sample: list, mu_0: float, alpha: float = 0.05):\n",
    "    \"\"\"\n",
    "    Параметры:\n",
    "    - sample: текущая реализация выборки\n",
    "    - mu_0: значение странной синусной статистики при H_0\n",
    "    - alpha: уровень значимости критерия.\n",
    "        \n",
    "    Возвращает:\n",
    "    - MyStrangeStatResults с полями:\n",
    "        - is_rejected: bool\n",
    "            - отверглась или нет гипотеза H_0 на уровне значимости alpha\n",
    "        - pvalue: float\n",
    "    \"\"\"\n",
    "    boot_samples_size = 10000\n",
    "    is_rejected = None\n",
    "    pvalue = None\n",
    "    \n",
    "    bootstrap_distribution = statistic(np.array([\n",
    "    np.random.choice(a=sample, size=len(sample), replace=True)\n",
    "        for _ in range(boot_samples_size)\n",
    "    ])) #генерация бутстрап-выборок и подсчёт статистики для каждого\n",
    "    \n",
    "    cdf_m_0 = np.sum(bootstrap_distribution <= mu_0) / len(bootstrap_distribution) \n",
    "    \n",
    "    if cdf_m_0 > 0.5:\n",
    "        pvalue = 1 - cdf_m_0\n",
    "    else:\n",
    "        pvalue = cdf_m_0\n",
    "\n",
    "    pvalue = min(2*pvalue, 1)\n",
    "\n",
    "    if pvalue < alpha:\n",
    "        is_rejected = True\n",
    "    else:\n",
    "        is_rejected = False\n",
    "\n",
    "    return MyStrangeStatResults(is_rejected, pvalue)"
   ]
  },
  {
   "cell_type": "code",
   "execution_count": 13,
   "metadata": {},
   "outputs": [],
   "source": [
    "import scipy.stats as sps\n",
    "from tqdm.notebook import tqdm"
   ]
  },
  {
   "cell_type": "markdown",
   "metadata": {},
   "source": [
    "##### Теперь проверим корректность критерия (FPR) на Exp распределении:"
   ]
  },
  {
   "cell_type": "code",
   "execution_count": 14,
   "metadata": {},
   "outputs": [
    {
     "data": {
      "application/vnd.jupyter.widget-view+json": {
       "model_id": "463518cdaccf4f1ebf296a511b64d532",
       "version_major": 2,
       "version_minor": 0
      },
      "text/plain": [
       "HBox(children=(HTML(value=''), FloatProgress(value=0.0, max=1000.0), HTML(value='')))"
      ]
     },
     "metadata": {},
     "output_type": "display_data"
    },
    {
     "name": "stdout",
     "output_type": "stream",
     "text": [
      "\n",
      "FPR is 0.043 ± 0.011\n"
     ]
    }
   ],
   "source": [
    "# Этот код на сервере академии должен выполняться не более 10 минут,\n",
    "# иначе он не пройдет проверку по времени\n",
    "from statsmodels.stats.proportion import proportion_confint\n",
    "negative = 0\n",
    "positive = 0\n",
    "\n",
    "np.random.seed(100)\n",
    "for i in tqdm(range(1000)):\n",
    "    sample = sps.expon(loc=1, scale=1000).rvs(1000)\n",
    "    is_rejected, pvalue = bootstrap_strange_stat_checker(sample, mu_0=2, alpha=0.05)\n",
    "    if is_rejected:\n",
    "        negative += 1\n",
    "    else:\n",
    "        positive += 1\n",
    "\n",
    "l, r = proportion_confint(count=negative, nobs=positive + negative, alpha=0.1, method='wilson')\n",
    "    \n",
    "print(f'FPR is {negative / (positive + negative):.3f} ± {(r - l) / 2:.3f}')"
   ]
  },
  {
   "cell_type": "markdown",
   "metadata": {},
   "source": [
    "##### Теперь проверим корректность критерия (FPR) на Norm распределении:"
   ]
  },
  {
   "cell_type": "code",
   "execution_count": 15,
   "metadata": {},
   "outputs": [
    {
     "data": {
      "application/vnd.jupyter.widget-view+json": {
       "model_id": "0cdcde6d7d8844ac9dc914cf09ad6217",
       "version_major": 2,
       "version_minor": 0
      },
      "text/plain": [
       "HBox(children=(HTML(value=''), FloatProgress(value=0.0, max=1000.0), HTML(value='')))"
      ]
     },
     "metadata": {},
     "output_type": "display_data"
    },
    {
     "name": "stdout",
     "output_type": "stream",
     "text": [
      "\n",
      "FPR is 0.036 ± 0.010\n"
     ]
    }
   ],
   "source": [
    "# Этот код на сервере академии должен выполняться не более 10 минут,\n",
    "# иначе он не пройдет проверку по времени\n",
    "from statsmodels.stats.proportion import proportion_confint\n",
    "negative = 0\n",
    "positive = 0\n",
    "\n",
    "np.random.seed(100)\n",
    "for i in tqdm(range(1000)):\n",
    "    sample = sps.norm(loc=120, scale=30).rvs(1000)\n",
    "    is_rejected, pvalue = bootstrap_strange_stat_checker(sample, mu_0=np.exp(1), alpha=0.05)\n",
    "    if is_rejected:\n",
    "        negative += 1\n",
    "    else:\n",
    "        positive += 1\n",
    "\n",
    "l, r = proportion_confint(count=negative, nobs=positive + negative, alpha=0.1, method='wilson')\n",
    "    \n",
    "print(f'FPR is {negative / (positive + negative):.3f} ± {(r - l) / 2:.3f}')"
   ]
  },
  {
   "cell_type": "markdown",
   "metadata": {},
   "source": [
    "##### Теперь проверим power критерия на Exp распределении:"
   ]
  },
  {
   "cell_type": "code",
   "execution_count": 52,
   "metadata": {},
   "outputs": [
    {
     "data": {
      "application/vnd.jupyter.widget-view+json": {
       "model_id": "36f8449a8ca64512ae6e8f8f6ae959c3",
       "version_major": 2,
       "version_minor": 0
      },
      "text/plain": [
       "HBox(children=(HTML(value=''), FloatProgress(value=0.0, max=1000.0), HTML(value='')))"
      ]
     },
     "metadata": {},
     "output_type": "display_data"
    },
    {
     "name": "stdout",
     "output_type": "stream",
     "text": [
      "\n",
      "power is 0.867 ± 0.018\n"
     ]
    }
   ],
   "source": [
    "# Этот код на сервере академии должен выполняться не более 10 минут,\n",
    "# иначе он не пройдет проверку по времени\n",
    "from statsmodels.stats.proportion import proportion_confint\n",
    "negative = 0\n",
    "positive = 0\n",
    "\n",
    "np.random.seed(100)\n",
    "for i in tqdm(range(1000)):\n",
    "    sample = sps.expon(loc=1, scale=1000).rvs(1000)\n",
    "    is_rejected, pvalue = bootstrap_strange_stat_checker(sample, mu_0=2.15, alpha=0.05)\n",
    "    if is_rejected:\n",
    "        negative += 1\n",
    "    else:\n",
    "        positive += 1\n",
    "\n",
    "l, r = proportion_confint(count=negative, nobs=positive + negative, alpha=0.1, method='wilson')\n",
    "    \n",
    "print(f'power is {negative / (positive + negative):.3f} ± {(r - l) / 2:.3f}')"
   ]
  },
  {
   "cell_type": "markdown",
   "metadata": {},
   "source": [
    "##### Теперь проверим power критерия на Norm распределении:"
   ]
  },
  {
   "cell_type": "code",
   "execution_count": 53,
   "metadata": {},
   "outputs": [
    {
     "data": {
      "application/vnd.jupyter.widget-view+json": {
       "model_id": "08610a99a4744e4dadbe84144907dfd0",
       "version_major": 2,
       "version_minor": 0
      },
      "text/plain": [
       "HBox(children=(HTML(value=''), FloatProgress(value=0.0, max=1000.0), HTML(value='')))"
      ]
     },
     "metadata": {},
     "output_type": "display_data"
    },
    {
     "name": "stdout",
     "output_type": "stream",
     "text": [
      "\n",
      "power is 1.000 ± 0.001\n"
     ]
    }
   ],
   "source": [
    "# Этот код на сервере академии должен выполняться не более 10 минут,\n",
    "# иначе он не пройдет проверку по времени\n",
    "from statsmodels.stats.proportion import proportion_confint\n",
    "negative = 0\n",
    "positive = 0\n",
    "\n",
    "np.random.seed(100)\n",
    "for i in tqdm(range(1000)):\n",
    "    sample = sps.norm(loc=120, scale=30).rvs(1000)\n",
    "    is_rejected, pvalue = bootstrap_strange_stat_checker(sample, mu_0=np.exp(1)+0.1, alpha=0.05)\n",
    "    if is_rejected:\n",
    "        negative += 1\n",
    "    else:\n",
    "        positive += 1\n",
    "\n",
    "l, r = proportion_confint(count=negative, nobs=positive + negative, alpha=0.1, method='wilson')\n",
    "    \n",
    "print(f'power is {negative / (positive + negative):.3f} ± {(r - l) / 2:.3f}')"
   ]
  },
  {
   "cell_type": "markdown",
   "metadata": {
    "id": "hrvo9MAT4get"
   },
   "source": [
    "## Задача 3 (3 балла)\n",
    "\n",
    "Эту задачу стоит решать только после второй задачи из домашки.\n",
    "\n",
    "Пусть мы подозреваем, что в AB-тесте в тестовой группе увеличилась дисперсия по сравнению с контрольной группой. Сформулировать это предположение на языке статистики и\n",
    "реализовать его проверку с помощью бутстрапа.\n",
    "\n",
    "**Теория**:\n",
    "В качестве статистики рассмотрим $T = \\dfrac{s_{test}}{s_{control}} \\text{, где } s_{test}, s_{control} \\text{ - выброчные оценки на дисперсию.} \\\\ $ Тогда гипотеза записывается в следующем виде:\n",
    "\n",
    "$$\n",
    "\\begin{align}\n",
    "&H_0:  \\left({\\dfrac{s_{test}}{s_{control}}} \\right)  = 1\\ vs.\\\\\n",
    "&H_1:  \\left(\\dfrac{s_{test}}{s_{control}}\\right)  > 1\n",
    "\\end{align}\n",
    "$$\n",
    "Тогда оценим p-value с помощью бутстрап-метода, и если p-value < $\\alpha$, то отклоним $H_0$. Ну или другими словами, если значение статистики попадёт в критическую область, которую мы смоделируем с помощью бутстрап-метода.\n"
   ]
  },
  {
   "cell_type": "markdown",
   "metadata": {
    "id": "D03kyoIm45Ov"
   },
   "source": []
  },
  {
   "cell_type": "markdown",
   "metadata": {
    "id": "Wer9eQ3h45pR"
   },
   "source": [
    "Теперь перйдем к практике:\n",
    "\n",
    "Какими библиотеками вы можете пользоваться:\n",
    "```\n",
    "import numpy as np\n",
    "from collections import namedtuple\n",
    "from scipy.stats.binom\n",
    "from scipy.stats.norm\n",
    "from scipy.stats.t\n",
    "from scipy.stats.bernoulli\n",
    "```"
   ]
  },
  {
   "cell_type": "code",
   "execution_count": 19,
   "metadata": {
    "id": "QIfE2VLN4X9v"
   },
   "outputs": [],
   "source": [
    "import numpy as np\n",
    "from collections import namedtuple\n",
    "from scipy.stats import binom\n",
    "from scipy.stats import norm\n",
    "from scipy.stats import t\n",
    "from scipy.stats import bernoulli"
   ]
  },
  {
   "cell_type": "code",
   "execution_count": 49,
   "metadata": {
    "id": "QzZ92BJK49To"
   },
   "outputs": [],
   "source": [
    "#Автопроверка\n",
    "\n",
    "CompareVarianceResults = namedtuple('CompareVarianceResults', \n",
    "                                  ['is_rejected', 'pvalue'])\n",
    "\n",
    "\n",
    "def variance_ab_checker(test: list, control: list, alpha: float = 0.05):\n",
    "    \"\"\"\n",
    "    Параметры:\n",
    "    - control: контрольная группа\n",
    "    - test: тестовая группа\n",
    "    - alpha: уровень значимости критерия.\n",
    "        \n",
    "    Возвращает:\n",
    "    - CompareVarianceResults с полями:\n",
    "        - is_rejected: bool\n",
    "            - отверглась или нет гипотеза H_0 на уровне значимости alpha\n",
    "        - pvalue: float\n",
    "    \"\"\"\n",
    "    boot_samples_size = 10000\n",
    "    is_rejected = None\n",
    "    pvalue = None\n",
    "    left_bound = None\n",
    "    right_bound = None\n",
    "    \n",
    "    \n",
    "    n1 = len(control)\n",
    "    n2 = len(test)\n",
    "    \n",
    "    estimate_statistic = np.std(test, ddof=1) / np.std(control, ddof=1) #значение статистики для выборок\n",
    "    \n",
    "    bootstrap_distribution = np.array([(\n",
    "    np.std(np.random.choice(a=test, size=n2, replace=True), ddof=1) / \\\n",
    "        np.std(np.random.choice(a=control, size=n1, replace=True), ddof=1))\n",
    "        for _ in range(boot_samples_size)\n",
    "    ]) #строим бутстрап-выборки из эмпирического распределения и считаем для них статистику.\n",
    "    \n",
    "    pvalue = np.sum(bootstrap_distribution >= estimate_statistic) / len(bootstrap_distribution) #оцениваем p-value через бутстрап-метод\n",
    "    \n",
    "    if pvalue < alpha:\n",
    "        is_rejected = True\n",
    "    else:\n",
    "        is_rejected = False\n",
    "\n",
    "\n",
    "    return CompareVarianceResults(is_rejected, pvalue)"
   ]
  },
  {
   "cell_type": "code",
   "execution_count": 32,
   "metadata": {
    "id": "TDf20jJo57Co"
   },
   "outputs": [],
   "source": [
    "import scipy.stats as sps\n",
    "from tqdm.notebook import tqdm\n",
    "from matplotlib import pyplot as plt"
   ]
  },
  {
   "cell_type": "code",
   "execution_count": 54,
   "metadata": {
    "id": "WX2eTwN759DD"
   },
   "outputs": [
    {
     "data": {
      "application/vnd.jupyter.widget-view+json": {
       "model_id": "df0d9ed985ba440fa9a62b7dd0ac1208",
       "version_major": 2,
       "version_minor": 0
      },
      "text/plain": [
       "HBox(children=(HTML(value=''), FloatProgress(value=0.0, max=1000.0), HTML(value='')))"
      ]
     },
     "metadata": {},
     "output_type": "display_data"
    },
    {
     "name": "stdout",
     "output_type": "stream",
     "text": [
      "\n",
      "FPR is 0.047 ± 0.011\n"
     ]
    }
   ],
   "source": [
    "# Этот код на сервере академии должен выполняться не более 10 минут,\n",
    "# иначе он не пройдет проверку по времени\n",
    "from statsmodels.stats.proportion import proportion_confint\n",
    "negative = 0\n",
    "positive = 0\n",
    "scale = 200\n",
    "\n",
    "for i in tqdm(range(1000)):\n",
    "    test = sps.expon(loc=1, scale=1000).rvs(1000)\n",
    "    control = sps.expon(loc=1, scale=1000).rvs(1000)\n",
    "    #test = control + scale\n",
    "    is_rejected, pvalue = variance_ab_checker(test, control, alpha=0.05)\n",
    "    #print(is_rejected, pvalue)\n",
    "    if (is_rejected):\n",
    "        negative += 1\n",
    "    else:\n",
    "        positive += 1\n",
    "\n",
    "l, r = proportion_confint(count=positive, nobs=positive + negative, alpha=0.10, method='wilson')\n",
    "    \n",
    "print(f'FPR is {negative / (positive + negative):.3f} ± {(r - l) / 2:.3f}')"
   ]
  },
  {
   "cell_type": "code",
   "execution_count": 70,
   "metadata": {},
   "outputs": [
    {
     "data": {
      "image/png": "[encoded data removed]",
      "text/plain": [
       "<Figure size 432x288 with 1 Axes>"
      ]
     },
     "metadata": {
      "needs_background": "light"
     },
     "output_type": "display_data"
    }
   ],
   "source": [
    "import matplotlib.pyplot as plt\n",
    "test = sps.expon(loc=1, scale=1000).rvs(10000)\n",
    "control = sps.expon(loc=1, scale=1000).rvs(1000)\n",
    "plt.hist(test, label='test', bins=100)\n",
    "plt.hist(control, label='control', bins=100)\n",
    "plt.legend()\n",
    "plt.show()"
   ]
  },
  {
   "cell_type": "code",
   "execution_count": null,
   "metadata": {},
   "outputs": [],
   "source": []
  }
 ],
 "metadata": {
  "colab": {
   "collapsed_sections": [],
   "name": "HW4.ipynb",
   "provenance": []
  },
  "kernelspec": {
   "display_name": "Python 3 (ipykernel)",
   "language": "python",
   "name": "python3"
  },
  "language_info": {
   "codemirror_mode": {
    "name": "ipython",
    "version": 3
   },
   "file_extension": ".py",
   "mimetype": "text/x-python",
   "name": "python",
   "nbconvert_exporter": "python",
   "pygments_lexer": "ipython3",
   "version": "3.8.12"
  }
 },
 "nbformat": 4,
 "nbformat_minor": 1
}
